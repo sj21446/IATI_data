{
  "nbformat": 4,
  "nbformat_minor": 0,
  "metadata": {
    "colab": {
      "name": "IATI_DFID_DATA.ipynb",
      "provenance": [],
      "authorship_tag": "ABX9TyPoE4xi2Eq0UaOGdb1qUray",
      "include_colab_link": true
    },
    "kernelspec": {
      "name": "python3",
      "display_name": "Python 3"
    }
  },
  "cells": [
    {
      "cell_type": "markdown",
      "metadata": {
        "id": "view-in-github",
        "colab_type": "text"
      },
      "source": [
        "<a href=\"https://colab.research.google.com/github/sj21446/IATI_data/blob/master/IATI_DFID_DATA.ipynb\" target=\"_parent\"><img src=\"https://colab.research.google.com/assets/colab-badge.svg\" alt=\"Open In Colab\"/></a>"
      ]
    },
    {
      "cell_type": "markdown",
      "metadata": {
        "id": "Te-G9k1Hv1wi",
        "colab_type": "text"
      },
      "source": [
        "# This code pulls in a CSV file on DFID's work in Uganda, which has been produced using the IATI data standard, chooses the specific fields (columns) that I want to work on, and exports it to an Excel sheet for ease of use.\n"
      ]
    },
    {
      "cell_type": "code",
      "metadata": {
        "id": "kxW-ZlIFwBeH",
        "colab_type": "code",
        "colab": {
          "base_uri": "https://localhost:8080/",
          "height": 521
        },
        "outputId": "883de35f-1825-4cf4-d310-e1e46cde7f64"
      },
      "source": [
        "# this imports pandas and io packages\n",
        "import pandas as pd\n",
        "import io\n",
        "\n",
        "# this fetches the data \n",
        "datadoc = pd.read_csv(\"https://raw.githubusercontent.com/sj21446/IATI_data/master/DFID_Uganda_current_activities_04062020.csv\")\n",
        "\n",
        "# this gives a readout of the first three lines of data, to check it's the right file.\n",
        "print(datadoc.head(3))\n",
        "\n",
        "# this brings back a list of implementing organisations currently funded by DFID in Uganda\n",
        "# together with the value of the transaction, the title of the project, the IATI identifier for the project and the status code for the project.\n",
        "implementers = pd.DataFrame(datadoc, columns=[\"participating-org (Implementing)\", \"transaction-value\", \"title\", \"activity-status-code\", \"iati-identifier\"])\n",
        "\n",
        "# this tests that the filter is correct\n",
        "display(implementers)\n",
        "\n",
        "# this exports the filtered data to a new Excel file, with headers and without the Index column\n",
        "implementers.to_excel (r\"DFID_Uganda_implementers.xlsx\", index=False, header=True)\n"
      ],
      "execution_count": 35,
      "outputs": [
        {
          "output_type": "stream",
          "text": [
            "   transaction-type  ... default-tied-status-code\n",
            "0                 2  ...                        5\n",
            "1                 3  ...                        5\n",
            "2                 2  ...                        5\n",
            "\n",
            "[3 rows x 74 columns]\n"
          ],
          "name": "stdout"
        },
        {
          "output_type": "display_data",
          "data": {
            "text/html": [
              "<div>\n",
              "<style scoped>\n",
              "    .dataframe tbody tr th:only-of-type {\n",
              "        vertical-align: middle;\n",
              "    }\n",
              "\n",
              "    .dataframe tbody tr th {\n",
              "        vertical-align: top;\n",
              "    }\n",
              "\n",
              "    .dataframe thead th {\n",
              "        text-align: right;\n",
              "    }\n",
              "</style>\n",
              "<table border=\"1\" class=\"dataframe\">\n",
              "  <thead>\n",
              "    <tr style=\"text-align: right;\">\n",
              "      <th></th>\n",
              "      <th>participating-org (Implementing)</th>\n",
              "      <th>transaction-value</th>\n",
              "      <th>title</th>\n",
              "      <th>activity-status-code</th>\n",
              "      <th>iati-identifier</th>\n",
              "    </tr>\n",
              "  </thead>\n",
              "  <tbody>\n",
              "    <tr>\n",
              "      <th>0</th>\n",
              "      <td>International Bank for Reconstruction and Deve...</td>\n",
              "      <td>170000</td>\n",
              "      <td>World Bank Protracted Crisis Window - Resilien...</td>\n",
              "      <td>2</td>\n",
              "      <td>GB-1-205206-105</td>\n",
              "    </tr>\n",
              "    <tr>\n",
              "      <th>1</th>\n",
              "      <td>International Bank for Reconstruction and Deve...</td>\n",
              "      <td>170000</td>\n",
              "      <td>World Bank Protracted Crisis Window - Resilien...</td>\n",
              "      <td>2</td>\n",
              "      <td>GB-1-205206-105</td>\n",
              "    </tr>\n",
              "    <tr>\n",
              "      <th>2</th>\n",
              "      <td>Palladium International Ltd (UK)</td>\n",
              "      <td>1281</td>\n",
              "      <td>Technical Assistance and Surge Support - Resil...</td>\n",
              "      <td>2</td>\n",
              "      <td>GB-1-205206-109</td>\n",
              "    </tr>\n",
              "    <tr>\n",
              "      <th>3</th>\n",
              "      <td>Palladium International Ltd (UK)</td>\n",
              "      <td>36452</td>\n",
              "      <td>Technical Assistance and Surge Support - Resil...</td>\n",
              "      <td>2</td>\n",
              "      <td>GB-1-205206-109</td>\n",
              "    </tr>\n",
              "    <tr>\n",
              "      <th>4</th>\n",
              "      <td>Palladium International Ltd (UK)</td>\n",
              "      <td>27693</td>\n",
              "      <td>Technical Assistance and Surge Support - Resil...</td>\n",
              "      <td>2</td>\n",
              "      <td>GB-1-205206-109</td>\n",
              "    </tr>\n",
              "    <tr>\n",
              "      <th>...</th>\n",
              "      <td>...</td>\n",
              "      <td>...</td>\n",
              "      <td>...</td>\n",
              "      <td>...</td>\n",
              "      <td>...</td>\n",
              "    </tr>\n",
              "    <tr>\n",
              "      <th>597</th>\n",
              "      <td>Federal Ministry of Education and Research of ...</td>\n",
              "      <td>500000</td>\n",
              "      <td>Provide financial incentives to encourage inve...</td>\n",
              "      <td>2</td>\n",
              "      <td>GB-1-203624-103</td>\n",
              "    </tr>\n",
              "    <tr>\n",
              "      <th>598</th>\n",
              "      <td>Federal Ministry of Education and Research of ...</td>\n",
              "      <td>1000000</td>\n",
              "      <td>Provide financial incentives to encourage inve...</td>\n",
              "      <td>2</td>\n",
              "      <td>GB-1-203624-103</td>\n",
              "    </tr>\n",
              "    <tr>\n",
              "      <th>599</th>\n",
              "      <td>Federal Ministry of Education and Research of ...</td>\n",
              "      <td>4000000</td>\n",
              "      <td>Provide financial incentives to encourage inve...</td>\n",
              "      <td>2</td>\n",
              "      <td>GB-1-203624-103</td>\n",
              "    </tr>\n",
              "    <tr>\n",
              "      <th>600</th>\n",
              "      <td>Federal Ministry of Education and Research of ...</td>\n",
              "      <td>-3409</td>\n",
              "      <td>Provide financial incentives to encourage inve...</td>\n",
              "      <td>2</td>\n",
              "      <td>GB-1-203624-103</td>\n",
              "    </tr>\n",
              "    <tr>\n",
              "      <th>601</th>\n",
              "      <td>Federal Ministry of Education and Research of ...</td>\n",
              "      <td>-500000</td>\n",
              "      <td>Provide financial incentives to encourage inve...</td>\n",
              "      <td>2</td>\n",
              "      <td>GB-1-203624-103</td>\n",
              "    </tr>\n",
              "  </tbody>\n",
              "</table>\n",
              "<p>602 rows × 5 columns</p>\n",
              "</div>"
            ],
            "text/plain": [
              "                      participating-org (Implementing)  ...  iati-identifier\n",
              "0    International Bank for Reconstruction and Deve...  ...  GB-1-205206-105\n",
              "1    International Bank for Reconstruction and Deve...  ...  GB-1-205206-105\n",
              "2                     Palladium International Ltd (UK)  ...  GB-1-205206-109\n",
              "3                     Palladium International Ltd (UK)  ...  GB-1-205206-109\n",
              "4                     Palladium International Ltd (UK)  ...  GB-1-205206-109\n",
              "..                                                 ...  ...              ...\n",
              "597  Federal Ministry of Education and Research of ...  ...  GB-1-203624-103\n",
              "598  Federal Ministry of Education and Research of ...  ...  GB-1-203624-103\n",
              "599  Federal Ministry of Education and Research of ...  ...  GB-1-203624-103\n",
              "600  Federal Ministry of Education and Research of ...  ...  GB-1-203624-103\n",
              "601  Federal Ministry of Education and Research of ...  ...  GB-1-203624-103\n",
              "\n",
              "[602 rows x 5 columns]"
            ]
          },
          "metadata": {
            "tags": []
          }
        }
      ]
    }
  ]
}