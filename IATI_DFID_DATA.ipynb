{
  "nbformat": 4,
  "nbformat_minor": 0,
  "metadata": {
    "colab": {
      "name": "IATI_DFID_DATA.ipynb",
      "provenance": [],
      "authorship_tag": "ABX9TyO7MhBEDMFz4pbsf2ZPZo4A",
      "include_colab_link": true
    },
    "kernelspec": {
      "name": "python3",
      "display_name": "Python 3"
    }
  },
  "cells": [
    {
      "cell_type": "markdown",
      "metadata": {
        "id": "view-in-github",
        "colab_type": "text"
      },
      "source": [
        "<a href=\"https://colab.research.google.com/github/sj21446/IATI_data/blob/master/IATI_DFID_DATA.ipynb\" target=\"_parent\"><img src=\"https://colab.research.google.com/assets/colab-badge.svg\" alt=\"Open In Colab\"/></a>"
      ]
    },
    {
      "cell_type": "code",
      "metadata": {
        "id": "s1mFd5mhvyb3",
        "colab_type": "code",
        "colab": {}
      },
      "source": [
        ""
      ],
      "execution_count": 0,
      "outputs": []
    },
    {
      "cell_type": "markdown",
      "metadata": {
        "id": "Te-G9k1Hv1wi",
        "colab_type": "text"
      },
      "source": [
        "This code pulls in a CSV file on DFID's work in Uganda, which has been produced using the IATI data standard."
      ]
    },
    {
      "cell_type": "code",
      "metadata": {
        "id": "kxW-ZlIFwBeH",
        "colab_type": "code",
        "colab": {
          "base_uri": "https://localhost:8080/",
          "height": 340
        },
        "outputId": "5b4e0987-41fc-44bc-c3b4-d665a78adfc2"
      },
      "source": [
        "# this imports pandas and io packages\n",
        "import pandas as pd\n",
        "import io\n",
        "\n",
        "# this fetches the data \n",
        "datadoc = pd.read_csv(\"https://raw.githubusercontent.com/sj21446/IATI_data/master/DFID_Uganda_current_activities_04062020.csv\")\n",
        "\n",
        "# this gives a readout of the first three lines of data, to check it's the right file.\n",
        "print(datadoc.head(3))\n",
        "\n",
        "# this brings back a list of implementing organisations currently funded by DFID in Uganda\n",
        "implementers = pd.DataFrame(datadoc, columns=[\"participating-org (Implementing)\", \"transaction-value\", \"title\", \"activity-status-code\", \"iati-identifier\"])\n",
        "print(implementers.head(10))"
      ],
      "execution_count": 20,
      "outputs": [
        {
          "output_type": "stream",
          "text": [
            "   transaction-type  ... default-tied-status-code\n",
            "0                 2  ...                        5\n",
            "1                 3  ...                        5\n",
            "2                 2  ...                        5\n",
            "\n",
            "[3 rows x 74 columns]\n",
            "                    participating-org (Implementing)  ...  iati-identifier\n",
            "0  International Bank for Reconstruction and Deve...  ...  GB-1-205206-105\n",
            "1  International Bank for Reconstruction and Deve...  ...  GB-1-205206-105\n",
            "2                   Palladium International Ltd (UK)  ...  GB-1-205206-109\n",
            "3                   Palladium International Ltd (UK)  ...  GB-1-205206-109\n",
            "4                   Palladium International Ltd (UK)  ...  GB-1-205206-109\n",
            "5                   Palladium International Ltd (UK)  ...  GB-1-205206-109\n",
            "6                   Palladium International Ltd (UK)  ...  GB-1-205206-109\n",
            "7                   Palladium International Ltd (UK)  ...  GB-1-205206-109\n",
            "8                   Palladium International Ltd (UK)  ...  GB-1-205206-109\n",
            "9                   Palladium International Ltd (UK)  ...  GB-1-205206-109\n",
            "\n",
            "[10 rows x 5 columns]\n"
          ],
          "name": "stdout"
        }
      ]
    }
  ]
}