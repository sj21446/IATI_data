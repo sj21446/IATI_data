{
  "nbformat": 4,
  "nbformat_minor": 0,
  "metadata": {
    "colab": {
      "name": "IATI_DFID_DATA.ipynb",
      "provenance": [],
      "toc_visible": true,
      "authorship_tag": "ABX9TyPWdQrIUjHDo7O84bLTKzKT",
      "include_colab_link": true
    },
    "kernelspec": {
      "name": "python3",
      "display_name": "Python 3"
    }
  },
  "cells": [
    {
      "cell_type": "markdown",
      "metadata": {
        "id": "view-in-github",
        "colab_type": "text"
      },
      "source": [
        "<a href=\"https://colab.research.google.com/github/sj21446/IATI_data/blob/master/IATI_DFID_DATA.ipynb\" target=\"_parent\"><img src=\"https://colab.research.google.com/assets/colab-badge.svg\" alt=\"Open In Colab\"/></a>"
      ]
    },
    {
      "cell_type": "markdown",
      "metadata": {
        "id": "Te-G9k1Hv1wi",
        "colab_type": "text"
      },
      "source": [
        "# This code pulls in a CSV file on DFID's work in Uganda, which has been produced using the IATI data standard, chooses the specific fields (columns) that I want to work on, and exports it to an Excel sheet for ease of use.\n"
      ]
    },
    {
      "cell_type": "markdown",
      "metadata": {
        "id": "mLiq2M3J7j71",
        "colab_type": "text"
      },
      "source": [
        "This is the the full pandas code. It's broken down into sections below."
      ]
    },
    {
      "cell_type": "code",
      "metadata": {
        "id": "kxW-ZlIFwBeH",
        "colab_type": "code",
        "colab": {}
      },
      "source": [
        "# this imports pandas and renames it as pd\n",
        "import pandas as pd\n",
        "\n",
        "# this fetches the CSV file from a URL and reads the contents\n",
        "datadoc = pd.read_csv(\"https://raw.githubusercontent.com/sj21446/IATI_data/master/DFID_Uganda_current_activities_04062020.csv\")\n",
        "\n",
        "# this gives an idea of whether all the data we were expecting is in datadoc - is it the right size/shape?\n",
        "print(datadoc.shape)\n",
        "\n",
        "# this gives a readout of the first three lines of data, to check it's the right file.\n",
        "print(datadoc.head(3))\n",
        "\n",
        "# this gives a readout of the columns and the types of data in each\n",
        "print(datadoc.dtypes)\n",
        "\n",
        "# this gives us a complete list of all the column headings\n",
        "print(datadoc.columns)\n",
        "\n",
        "# this brings back a list of implementing organisations currently funded by DFID in Uganda\n",
        "# together with the value of the transaction, the title of the project, the IATI identifier for the project and the status code for the project.\n",
        "implementers = pd.DataFrame(datadoc, columns=[\"participating-org (Implementing)\", \"transaction-value\", \"title\", \"activity-status-code\", \"iati-identifier\"])\n",
        "\n",
        "# this tests that the filter is correct\n",
        "display(implementers)\n",
        "\n",
        "# this exports the filtered data to a new Excel file, with headers and without the Index column\n",
        "implementers.to_excel (r\"DFID_Uganda_implementers.xlsx\", index=False, header=True)\n"
      ],
      "execution_count": 0,
      "outputs": []
    },
    {
      "cell_type": "markdown",
      "metadata": {
        "id": "GaJHCxX33M0x",
        "colab_type": "text"
      },
      "source": [
        "Let's break it down. First thing to do is to import the pandas package. When you're working with Pandas, it's common to abbreviate it to pd."
      ]
    },
    {
      "cell_type": "code",
      "metadata": {
        "id": "n74hPEwK8NYM",
        "colab_type": "code",
        "colab": {}
      },
      "source": [
        "# this imports pandas and renames it as pd\n",
        "import pandas as pd"
      ],
      "execution_count": 0,
      "outputs": []
    },
    {
      "cell_type": "code",
      "metadata": {
        "id": "-1Waz0TSHTDU",
        "colab_type": "code",
        "colab": {}
      },
      "source": [
        "from google.colab import drive\n",
        "drive.mount('/content/drive')"
      ],
      "execution_count": 0,
      "outputs": []
    },
    {
      "cell_type": "markdown",
      "metadata": {
        "id": "NdzC3Kg48SLc",
        "colab_type": "text"
      },
      "source": [
        "Then we fetch the CSV file that we're going to be working on - this one happens to be on my Github repo. It's a CSV file of all of DFID's activities in Uganda. We then create a DataFrame to hold the data, called datadoc"
      ]
    },
    {
      "cell_type": "code",
      "metadata": {
        "id": "9s1kbiqN8gdE",
        "colab_type": "code",
        "colab": {}
      },
      "source": [
        "# this fetches the CSV file from a URL and reads the contents and creates a DataFrame called datadoc\n",
        "datadoc = pd.read_csv(\"https://raw.githubusercontent.com/sj21446/IATI_data/master/DFID_Uganda_current_activities_04062020.csv\")\n"
      ],
      "execution_count": 0,
      "outputs": []
    },
    {
      "cell_type": "markdown",
      "metadata": {
        "id": "PegP4FTF_4ZO",
        "colab_type": "text"
      },
      "source": [
        "This snippet gives us some feedback on the size and shape of datadoc, to see if its got all the data that we were expecting. The first number is the number of rows, and the second number is the number of columns."
      ]
    },
    {
      "cell_type": "code",
      "metadata": {
        "id": "1T2iUo-kADNq",
        "colab_type": "code",
        "colab": {
          "base_uri": "https://localhost:8080/",
          "height": 34
        },
        "outputId": "4abd6aab-664d-4c8c-eadb-ec920f55598f"
      },
      "source": [
        "# this gives an idea of whether all the data we were expecting is in datadoc - is it the right size/shape?\n",
        "print(datadoc.shape)"
      ],
      "execution_count": 9,
      "outputs": [
        {
          "output_type": "stream",
          "text": [
            "(602, 74)\n"
          ],
          "name": "stdout"
        }
      ]
    },
    {
      "cell_type": "markdown",
      "metadata": {
        "id": "hqnox7vU8m6j",
        "colab_type": "text"
      },
      "source": [
        "Then we can call up the first three lines of datadoc, just to check that the data looks like what we were expecting:"
      ]
    },
    {
      "cell_type": "code",
      "metadata": {
        "id": "FSTICAKx85ac",
        "colab_type": "code",
        "colab": {
          "base_uri": "https://localhost:8080/",
          "height": 119
        },
        "outputId": "906ce475-9754-4d40-9bfc-4a9cc73b8ac5"
      },
      "source": [
        "# this gives a readout of the first three lines of data, to check it's the right file.\n",
        "print(datadoc.head(3))"
      ],
      "execution_count": 10,
      "outputs": [
        {
          "output_type": "stream",
          "text": [
            "   transaction-type  ... default-tied-status-code\n",
            "0                 2  ...                        5\n",
            "1                 3  ...                        5\n",
            "2                 2  ...                        5\n",
            "\n",
            "[3 rows x 74 columns]\n"
          ],
          "name": "stdout"
        }
      ]
    },
    {
      "cell_type": "markdown",
      "metadata": {
        "id": "26zOQjYE86kL",
        "colab_type": "text"
      },
      "source": [
        "We can also get a list of the column headings, and the type of data contained in each column in datadoc"
      ]
    },
    {
      "cell_type": "code",
      "metadata": {
        "id": "3KEQbRgr9J0d",
        "colab_type": "code",
        "colab": {
          "base_uri": "https://localhost:8080/",
          "height": 221
        },
        "outputId": "f9b14ae1-110d-4e95-fb6f-d0aec230b267"
      },
      "source": [
        "# this gives a readout of the columns and the types of data in each\n",
        "print(datadoc.dtypes)"
      ],
      "execution_count": 11,
      "outputs": [
        {
          "output_type": "stream",
          "text": [
            "transaction-type              int64\n",
            "transaction-date             object\n",
            "default-currency             object\n",
            "transaction-value             int64\n",
            "transaction_ref              object\n",
            "                              ...  \n",
            "collaboration-type-code       int64\n",
            "default-finance-type-code     int64\n",
            "default-flow-type-code        int64\n",
            "default-aid-type-code        object\n",
            "default-tied-status-code      int64\n",
            "Length: 74, dtype: object\n"
          ],
          "name": "stdout"
        }
      ]
    },
    {
      "cell_type": "markdown",
      "metadata": {
        "id": "9_cW578RGrBo",
        "colab_type": "text"
      },
      "source": [
        "You can also get the column headings this way (without the types of data)"
      ]
    },
    {
      "cell_type": "code",
      "metadata": {
        "id": "t4pTiHAqGv3y",
        "colab_type": "code",
        "colab": {
          "base_uri": "https://localhost:8080/",
          "height": 697
        },
        "outputId": "7881147b-848d-4eea-d768-9c551b857102"
      },
      "source": [
        "print(datadoc.columns)"
      ],
      "execution_count": 14,
      "outputs": [
        {
          "output_type": "stream",
          "text": [
            "Index(['transaction-type', 'transaction-date', 'default-currency',\n",
            "       'transaction-value', 'transaction_ref', 'transaction_value_currency',\n",
            "       'transaction_value_value-date', 'transaction_provider-org',\n",
            "       'transaction_provider-org_ref',\n",
            "       'transaction_provider-org_provider-activity-id',\n",
            "       'transaction_receiver-org', 'transaction_receiver-org_ref',\n",
            "       'transaction_receiver-org_receiver-activity-id',\n",
            "       'transaction_description', 'transaction_flow-type_code',\n",
            "       'transaction_finance-type_code', 'transaction_aid-type_code',\n",
            "       'transaction_tied-status_code', 'transaction_disbursement-channel_code',\n",
            "       'transaction_recipient-country-code', 'transaction_recipient-country',\n",
            "       'transaction_recipient-region-code', 'transaction_recipient-region',\n",
            "       'transaction_sector-code', 'transaction_sector',\n",
            "       'transaction_sector-vocabulary', 'transaction_sector-vocabulary-code',\n",
            "       'iati-identifier', 'hierarchy', 'last-updated-datetime',\n",
            "       'default-language', 'reporting-org', 'reporting-org-ref',\n",
            "       'reporting-org-type', 'reporting-org-type-code', 'title', 'description',\n",
            "       'activity-status-code', 'start-planned', 'end-planned', 'start-actual',\n",
            "       'end-actual', 'participating-org (Accountable)',\n",
            "       'participating-org-ref (Accountable)',\n",
            "       'participating-org-type (Accountable)',\n",
            "       'participating-org-type-code (Accountable)',\n",
            "       'participating-org (Funding)', 'participating-org-ref (Funding)',\n",
            "       'participating-org-type (Funding)',\n",
            "       'participating-org-type-code (Funding)',\n",
            "       'participating-org (Extending)', 'participating-org-ref (Extending)',\n",
            "       'participating-org-type (Extending)',\n",
            "       'participating-org-type-code (Extending)',\n",
            "       'participating-org (Implementing)',\n",
            "       'participating-org-ref (Implementing)',\n",
            "       'participating-org-type (Implementing)',\n",
            "       'participating-org-type-code (Implementing)', 'recipient-country-code',\n",
            "       'recipient-country', 'recipient-country-percentage',\n",
            "       'recipient-region-code', 'recipient-region',\n",
            "       'recipient-region-percentage', 'sector-code', 'sector',\n",
            "       'sector-percentage', 'sector-vocabulary', 'sector-vocabulary-code',\n",
            "       'collaboration-type-code', 'default-finance-type-code',\n",
            "       'default-flow-type-code', 'default-aid-type-code',\n",
            "       'default-tied-status-code'],\n",
            "      dtype='object')\n"
          ],
          "name": "stdout"
        }
      ]
    },
    {
      "cell_type": "markdown",
      "metadata": {
        "id": "EkK8JBS89Lt9",
        "colab_type": "text"
      },
      "source": [
        "If everything is looking like we were expecting, the next stage is to create a DataFrame (called implementers) which just includes the data that I want to work with, based on the column headings. I also ordered the columns in the order that I wanted, rather than the order that they were in, in the CSV."
      ]
    },
    {
      "cell_type": "code",
      "metadata": {
        "id": "7qS6MIf79g1M",
        "colab_type": "code",
        "colab": {}
      },
      "source": [
        "# this brings back a list of implementing organisations currently funded by DFID in Uganda\n",
        "# together with the value of the transaction, the title of the project, the IATI identifier for the project and the status code for the project.\n",
        "implementers = pd.DataFrame(datadoc, columns=[\"participating-org (Implementing)\", \"transaction-value\", \"title\", \"activity-status-code\", \"iati-identifier\"])\n"
      ],
      "execution_count": 0,
      "outputs": []
    },
    {
      "cell_type": "markdown",
      "metadata": {
        "id": "fUc_0kYg-Upn",
        "colab_type": "text"
      },
      "source": [
        "And then I can check that this filtering has worked:"
      ]
    },
    {
      "cell_type": "code",
      "metadata": {
        "id": "0w0sVVcO-gQc",
        "colab_type": "code",
        "colab": {
          "base_uri": "https://localhost:8080/",
          "height": 606
        },
        "outputId": "9c4a58f8-8511-478c-e115-20d1ec920af5"
      },
      "source": [
        "# this tests that the filter is correct\n",
        "display(implementers)"
      ],
      "execution_count": 13,
      "outputs": [
        {
          "output_type": "display_data",
          "data": {
            "text/html": [
              "<div>\n",
              "<style scoped>\n",
              "    .dataframe tbody tr th:only-of-type {\n",
              "        vertical-align: middle;\n",
              "    }\n",
              "\n",
              "    .dataframe tbody tr th {\n",
              "        vertical-align: top;\n",
              "    }\n",
              "\n",
              "    .dataframe thead th {\n",
              "        text-align: right;\n",
              "    }\n",
              "</style>\n",
              "<table border=\"1\" class=\"dataframe\">\n",
              "  <thead>\n",
              "    <tr style=\"text-align: right;\">\n",
              "      <th></th>\n",
              "      <th>participating-org (Implementing)</th>\n",
              "      <th>transaction-value</th>\n",
              "      <th>title</th>\n",
              "      <th>activity-status-code</th>\n",
              "      <th>iati-identifier</th>\n",
              "    </tr>\n",
              "  </thead>\n",
              "  <tbody>\n",
              "    <tr>\n",
              "      <th>0</th>\n",
              "      <td>International Bank for Reconstruction and Deve...</td>\n",
              "      <td>170000</td>\n",
              "      <td>World Bank Protracted Crisis Window - Resilien...</td>\n",
              "      <td>2</td>\n",
              "      <td>GB-1-205206-105</td>\n",
              "    </tr>\n",
              "    <tr>\n",
              "      <th>1</th>\n",
              "      <td>International Bank for Reconstruction and Deve...</td>\n",
              "      <td>170000</td>\n",
              "      <td>World Bank Protracted Crisis Window - Resilien...</td>\n",
              "      <td>2</td>\n",
              "      <td>GB-1-205206-105</td>\n",
              "    </tr>\n",
              "    <tr>\n",
              "      <th>2</th>\n",
              "      <td>Palladium International Ltd (UK)</td>\n",
              "      <td>1281</td>\n",
              "      <td>Technical Assistance and Surge Support - Resil...</td>\n",
              "      <td>2</td>\n",
              "      <td>GB-1-205206-109</td>\n",
              "    </tr>\n",
              "    <tr>\n",
              "      <th>3</th>\n",
              "      <td>Palladium International Ltd (UK)</td>\n",
              "      <td>36452</td>\n",
              "      <td>Technical Assistance and Surge Support - Resil...</td>\n",
              "      <td>2</td>\n",
              "      <td>GB-1-205206-109</td>\n",
              "    </tr>\n",
              "    <tr>\n",
              "      <th>4</th>\n",
              "      <td>Palladium International Ltd (UK)</td>\n",
              "      <td>27693</td>\n",
              "      <td>Technical Assistance and Surge Support - Resil...</td>\n",
              "      <td>2</td>\n",
              "      <td>GB-1-205206-109</td>\n",
              "    </tr>\n",
              "    <tr>\n",
              "      <th>...</th>\n",
              "      <td>...</td>\n",
              "      <td>...</td>\n",
              "      <td>...</td>\n",
              "      <td>...</td>\n",
              "      <td>...</td>\n",
              "    </tr>\n",
              "    <tr>\n",
              "      <th>597</th>\n",
              "      <td>Federal Ministry of Education and Research of ...</td>\n",
              "      <td>500000</td>\n",
              "      <td>Provide financial incentives to encourage inve...</td>\n",
              "      <td>2</td>\n",
              "      <td>GB-1-203624-103</td>\n",
              "    </tr>\n",
              "    <tr>\n",
              "      <th>598</th>\n",
              "      <td>Federal Ministry of Education and Research of ...</td>\n",
              "      <td>1000000</td>\n",
              "      <td>Provide financial incentives to encourage inve...</td>\n",
              "      <td>2</td>\n",
              "      <td>GB-1-203624-103</td>\n",
              "    </tr>\n",
              "    <tr>\n",
              "      <th>599</th>\n",
              "      <td>Federal Ministry of Education and Research of ...</td>\n",
              "      <td>4000000</td>\n",
              "      <td>Provide financial incentives to encourage inve...</td>\n",
              "      <td>2</td>\n",
              "      <td>GB-1-203624-103</td>\n",
              "    </tr>\n",
              "    <tr>\n",
              "      <th>600</th>\n",
              "      <td>Federal Ministry of Education and Research of ...</td>\n",
              "      <td>-3409</td>\n",
              "      <td>Provide financial incentives to encourage inve...</td>\n",
              "      <td>2</td>\n",
              "      <td>GB-1-203624-103</td>\n",
              "    </tr>\n",
              "    <tr>\n",
              "      <th>601</th>\n",
              "      <td>Federal Ministry of Education and Research of ...</td>\n",
              "      <td>-500000</td>\n",
              "      <td>Provide financial incentives to encourage inve...</td>\n",
              "      <td>2</td>\n",
              "      <td>GB-1-203624-103</td>\n",
              "    </tr>\n",
              "  </tbody>\n",
              "</table>\n",
              "<p>602 rows × 5 columns</p>\n",
              "</div>"
            ],
            "text/plain": [
              "                      participating-org (Implementing)  ...  iati-identifier\n",
              "0    International Bank for Reconstruction and Deve...  ...  GB-1-205206-105\n",
              "1    International Bank for Reconstruction and Deve...  ...  GB-1-205206-105\n",
              "2                     Palladium International Ltd (UK)  ...  GB-1-205206-109\n",
              "3                     Palladium International Ltd (UK)  ...  GB-1-205206-109\n",
              "4                     Palladium International Ltd (UK)  ...  GB-1-205206-109\n",
              "..                                                 ...  ...              ...\n",
              "597  Federal Ministry of Education and Research of ...  ...  GB-1-203624-103\n",
              "598  Federal Ministry of Education and Research of ...  ...  GB-1-203624-103\n",
              "599  Federal Ministry of Education and Research of ...  ...  GB-1-203624-103\n",
              "600  Federal Ministry of Education and Research of ...  ...  GB-1-203624-103\n",
              "601  Federal Ministry of Education and Research of ...  ...  GB-1-203624-103\n",
              "\n",
              "[602 rows x 5 columns]"
            ]
          },
          "metadata": {
            "tags": []
          }
        }
      ]
    },
    {
      "cell_type": "markdown",
      "metadata": {
        "id": "gpD1qdpI-vD1",
        "colab_type": "text"
      },
      "source": [
        "If we've finished selecting the data, we can then export it in the file format we need - I've chosen Excel as I'm going to do further analysis in Excel or Power BI. This code exports the selected data to an Excel file called DFID_Uganda_implementers.xlsx. As Pandas treats each column as a series, each row of a column is also indexed (has a number attached to it, starting from 0). You can chose to include the Index number (index=True) as the first column or your Excel or CSV sheet, or not include it (index=False). You can also include the column headers by including header=True."
      ]
    },
    {
      "cell_type": "code",
      "metadata": {
        "id": "LjgPpFkb_EY0",
        "colab_type": "code",
        "colab": {}
      },
      "source": [
        "# this exports the filtered data to a new Excel file, with headers and without the Index column\n",
        "implementers.to_excel (r\"DFID_Uganda_implementers.xlsx\", index=False, header=True)"
      ],
      "execution_count": 0,
      "outputs": []
    }
  ]
}